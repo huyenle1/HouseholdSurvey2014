{
 "metadata": {
  "name": "",
  "signature": "sha256:4154889ba422336b811b1de6b786c6453ceb60f6e279173dd7b8d90c02efb92d"
 },
 "nbformat": 3,
 "nbformat_minor": 0,
 "worksheets": [
  {
   "cells": [
    {
     "cell_type": "code",
     "collapsed": false,
     "input": [
      "# Stated preference responses from person data\n",
      "# Use of real-time information and smartphones to make travel decisions"
     ],
     "language": "python",
     "metadata": {
      "slideshow": {
       "slide_type": "slide"
      }
     },
     "outputs": [],
     "prompt_number": 1
    },
    {
     "cell_type": "code",
     "collapsed": false,
     "input": [
      "%matplotlib inline\n",
      "import numpy as np\n",
      "import pandas as pd\n",
      "import load_data as data\n",
      "import matplotlib\n",
      "import matplotlib.pyplot as plt"
     ],
     "language": "python",
     "metadata": {
      "slideshow": {
       "slide_type": "subslide"
      }
     },
     "outputs": [],
     "prompt_number": 2
    },
    {
     "cell_type": "code",
     "collapsed": false,
     "input": [
      "# Travel info impact on travel plans - responses by home location in Regional Growth Center"
     ],
     "language": "python",
     "metadata": {},
     "outputs": [],
     "prompt_number": 3
    },
    {
     "cell_type": "code",
     "collapsed": false,
     "input": [
      "# Travel info impact on travel plans: I make the same trip I was planning, but it is less stressful\n",
      "data.person_hh.pivot_table(values='expwt_2_p', rows='h_rgc_name', cols='impact_sametrip', aggfunc=\"sum\");"
     ],
     "language": "python",
     "metadata": {},
     "outputs": [],
     "prompt_number": 4
    },
    {
     "cell_type": "code",
     "collapsed": false,
     "input": [
      "# Travel info impact on travel plans: I start my trip earlier\n",
      "data.person_hh.pivot_table(values='expwt_2_p', rows='h_rgc_name', cols='impact_earlier', aggfunc=\"sum\");"
     ],
     "language": "python",
     "metadata": {},
     "outputs": [],
     "prompt_number": 5
    },
    {
     "cell_type": "code",
     "collapsed": false,
     "input": [
      "# Travel info impact on travel plans: I start my trip later\n",
      "data.person_hh.pivot_table(values='expwt_2_p', rows='h_rgc_name', cols='impact_later', aggfunc=\"sum\");"
     ],
     "language": "python",
     "metadata": {},
     "outputs": [],
     "prompt_number": 6
    },
    {
     "cell_type": "code",
     "collapsed": false,
     "input": [
      "# Travel info impact on travel plans: I choose a completely different route than originally planned\n",
      "data.person_hh.pivot_table(values='expwt_2_p', rows='h_rgc_name', cols='impact_diffroute', aggfunc=\"sum\");"
     ],
     "language": "python",
     "metadata": {},
     "outputs": [],
     "prompt_number": 7
    },
    {
     "cell_type": "code",
     "collapsed": false,
     "input": [
      "# Travel info impact on travel plans: I take my planned route, but with small changes to avoid congestion\n",
      "data.person_hh.pivot_table(values='expwt_2_p', rows='h_rgc_name', cols='impact_smallchange', aggfunc=\"sum\");"
     ],
     "language": "python",
     "metadata": {},
     "outputs": [],
     "prompt_number": 8
    },
    {
     "cell_type": "code",
     "collapsed": false,
     "input": [
      "# Travel info impact on travel plans: I choose a different travel mode (e.g. I take the bus instead of driving)\n",
      "data.person_hh.pivot_table(values='expwt_2_p', rows='h_rgc_name', cols='impact_diffmode', aggfunc=\"sum\");"
     ],
     "language": "python",
     "metadata": {},
     "outputs": [],
     "prompt_number": 9
    },
    {
     "cell_type": "code",
     "collapsed": false,
     "input": [
      "# Travel info impact on travel plans: Travel info impact on travel plans: I postpone or cancel my trip\n",
      "data.person_hh.pivot_table(values='expwt_2_p', rows='h_rgc_name', cols='impact_postpone', aggfunc=\"sum\");"
     ],
     "language": "python",
     "metadata": {},
     "outputs": [],
     "prompt_number": 10
    },
    {
     "cell_type": "code",
     "collapsed": false,
     "input": [
      "# Travel info impact on travel plans: I change the number or order of the stops I plan to make on my trip\n",
      "data.person_hh.pivot_table(values='expwt_2_p', rows='h_rgc_name', cols='impact_order', aggfunc=\"sum\");"
     ],
     "language": "python",
     "metadata": {},
     "outputs": [],
     "prompt_number": 11
    },
    {
     "cell_type": "code",
     "collapsed": false,
     "input": [
      "import pylab\n",
      "pylab.show()"
     ],
     "language": "python",
     "metadata": {},
     "outputs": [],
     "prompt_number": 12
    },
    {
     "cell_type": "code",
     "collapsed": false,
     "input": [
      "# Test some bar charts\n",
      "data.trip.groupby('mode').sum()['expwt_2'].plot(kind='bar')"
     ],
     "language": "python",
     "metadata": {},
     "outputs": [
      {
       "metadata": {},
       "output_type": "pyout",
       "prompt_number": 13,
       "text": [
        "<matplotlib.axes.AxesSubplot at 0x40efd30>"
       ]
      },
      {
       "metadata": {},
       "output_type": "display_data",
       "png": "[encoded data removed]",
       "text": [
        "<matplotlib.figure.Figure at 0xe278cc0>"
       ]
      }
     ],
     "prompt_number": 13
    },
    {
     "cell_type": "code",
     "collapsed": false,
     "input": [
      "pylab.show()"
     ],
     "language": "python",
     "metadata": {},
     "outputs": [],
     "prompt_number": 17
    }
   ],
   "metadata": {}
  }
 ]
}